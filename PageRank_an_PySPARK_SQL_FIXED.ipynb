{
  "nbformat": 4,
  "nbformat_minor": 0,
  "metadata": {
    "colab": {
      "provenance": []
    },
    "kernelspec": {
      "name": "python3",
      "display_name": "Python 3"
    },
    "language_info": {
      "name": "python"
    }
  },
  "cells": [
    {
      "cell_type": "code",
      "source": [
        "!pip install pyspark"
      ],
      "metadata": {
        "colab": {
          "base_uri": "https://localhost:8080/"
        },
        "id": "iJTFdC0vVqiY",
        "outputId": "6b08517a-0ba2-429a-e1f3-7d1cc21df148"
      },
      "execution_count": 23,
      "outputs": [
        {
          "output_type": "stream",
          "name": "stdout",
          "text": [
            "Requirement already satisfied: pyspark in /usr/local/lib/python3.10/dist-packages (3.5.3)\n",
            "Requirement already satisfied: py4j==0.10.9.7 in /usr/local/lib/python3.10/dist-packages (from pyspark) (0.10.9.7)\n"
          ]
        }
      ]
    },
    {
      "cell_type": "code",
      "source": [
        "!pip install -q findspark\n",
        "import findspark\n",
        "findspark.init()"
      ],
      "metadata": {
        "id": "1KCvbWLtVtM0"
      },
      "execution_count": 24,
      "outputs": []
    },
    {
      "cell_type": "code",
      "source": [
        "!wget -q https://storage.googleapis.com/public_lddm_data/small_page_links.nt\n",
        "!ls"
      ],
      "metadata": {
        "colab": {
          "base_uri": "https://localhost:8080/"
        },
        "id": "c170pcXpWHw4",
        "outputId": "0202919a-bc87-43c2-ccfc-741507de5dbe"
      },
      "execution_count": 25,
      "outputs": [
        {
          "output_type": "stream",
          "name": "stdout",
          "text": [
            "sample_data  small_page_links.nt  small_page_links.nt.1\n"
          ]
        }
      ]
    },
    {
      "cell_type": "code",
      "source": [
        "from pyspark.sql import SparkSession\n",
        "from pyspark.sql.functions import col, lit, when\n",
        "\n",
        "# Créez une session Spark\n",
        "spark = SparkSession.builder.appName(\"PageRankExample\").getOrCreate()\n"
      ],
      "metadata": {
        "id": "TtAMxYKoZDzr"
      },
      "execution_count": 26,
      "outputs": []
    },
    {
      "cell_type": "code",
      "source": [
        "from pyspark.sql.types import StructType, StructField, StringType, IntegerType, DoubleType\n",
        "schema = StructType([\n",
        "    StructField(\"source\", StringType(), nullable=True),\n",
        "    StructField(\"predicate\", StringType(), nullable=True),\n",
        "    StructField(\"target\", StringType(), nullable=True)\n",
        "])"
      ],
      "metadata": {
        "id": "bwJ5e6iFbPRC"
      },
      "execution_count": 27,
      "outputs": []
    },
    {
      "cell_type": "code",
      "source": [
        "# Chargez vos données web en tant que DataFrame\n",
        "# Supposons que vous ayez un DataFrame avec deux colonnes : 'source' et 'target' représentant les liens entre les pages web\n",
        "# Par exemple, vous pouvez le charger à partir d'un fichier CSV\n",
        "data = spark.read.option(\"delimiter\",\" \").csv(\"small_page_links.nt\", header=False, schema=schema)\n",
        "data.show(5,truncate=200)"
      ],
      "metadata": {
        "colab": {
          "base_uri": "https://localhost:8080/"
        },
        "id": "WDSxqtIxbkRd",
        "outputId": "c2c813f5-6b4c-484e-caa8-facd847771e7"
      },
      "execution_count": 28,
      "outputs": [
        {
          "output_type": "stream",
          "name": "stdout",
          "text": [
            "+-------------------------------------------------------+--------------------------------------+-----------------------------------------------------------+\n",
            "|                                                 source|                             predicate|                                                     target|\n",
            "+-------------------------------------------------------+--------------------------------------+-----------------------------------------------------------+\n",
            "|       <http://dbpedia.org/resource/AfghanistanHistory>|<http://dbpedia.org/property/wikilink>|       <http://dbpedia.org/resource/History_of_Afghanistan>|\n",
            "|     <http://dbpedia.org/resource/AfghanistanGeography>|<http://dbpedia.org/property/wikilink>|     <http://dbpedia.org/resource/Geography_of_Afghanistan>|\n",
            "|      <http://dbpedia.org/resource/AccessibleComputing>|<http://dbpedia.org/property/wikilink>|       <http://dbpedia.org/resource/Computer_accessibility>|\n",
            "|        <http://dbpedia.org/resource/AfghanistanPeople>|<http://dbpedia.org/property/wikilink>|    <http://dbpedia.org/resource/Demography_of_Afghanistan>|\n",
            "|<http://dbpedia.org/resource/AfghanistanCommunications>|<http://dbpedia.org/property/wikilink>|<http://dbpedia.org/resource/Communications_in_Afghanistan>|\n",
            "+-------------------------------------------------------+--------------------------------------+-----------------------------------------------------------+\n",
            "only showing top 5 rows\n",
            "\n"
          ]
        }
      ]
    },
    {
      "cell_type": "code",
      "source": [
        "# So we can really write SQL !!\n",
        "data.createOrReplaceTempView(\"SPO\")\n",
        "result=spark.sql(\"select source from SPO\")\n",
        "result.show(5, truncate=200)"
      ],
      "metadata": {
        "colab": {
          "base_uri": "https://localhost:8080/"
        },
        "id": "_dYw-zlWeXf6",
        "outputId": "0864491b-aac8-471a-cfab-94545584b4ee"
      },
      "execution_count": 29,
      "outputs": [
        {
          "output_type": "stream",
          "name": "stdout",
          "text": [
            "+-------------------------------------------------------+\n",
            "|                                                 source|\n",
            "+-------------------------------------------------------+\n",
            "|       <http://dbpedia.org/resource/AfghanistanHistory>|\n",
            "|     <http://dbpedia.org/resource/AfghanistanGeography>|\n",
            "|      <http://dbpedia.org/resource/AccessibleComputing>|\n",
            "|        <http://dbpedia.org/resource/AfghanistanPeople>|\n",
            "|<http://dbpedia.org/resource/AfghanistanCommunications>|\n",
            "+-------------------------------------------------------+\n",
            "only showing top 5 rows\n",
            "\n"
          ]
        }
      ]
    },
    {
      "cell_type": "code",
      "source": [
        "data.take(1)"
      ],
      "metadata": {
        "colab": {
          "base_uri": "https://localhost:8080/"
        },
        "id": "jbrHqa1KZhiv",
        "outputId": "7139f303-ed3e-4118-a16b-043d944d8edb"
      },
      "execution_count": 30,
      "outputs": [
        {
          "output_type": "execute_result",
          "data": {
            "text/plain": [
              "[Row(source='<http://dbpedia.org/resource/AfghanistanHistory>', predicate='<http://dbpedia.org/property/wikilink>', target='<http://dbpedia.org/resource/History_of_Afghanistan>')]"
            ]
          },
          "metadata": {},
          "execution_count": 30
        }
      ]
    },
    {
      "cell_type": "code",
      "source": [
        "# Créez un DataFrame contenant le nombre de liens sortants pour chaque page\n",
        "outdegrees = data.groupBy(\"source\").count().withColumnRenamed(\"source\", \"page\").withColumnRenamed(\"count\", \"outDegree\")\n",
        "\n",
        "# Définissez le nombre d'itérations pour le calcul du PageRank\n",
        "max_iterations = 5\n",
        "damping_factor = 0.85\n",
        "\n",
        "# Initialisation du PageRank en attribuant à chaque page une valeur de départ\n",
        "initial_pagerank = 1.0\n",
        "\n",
        "# Créez un DataFrame contenant les valeurs de PageRank initiales\n",
        "pagerank = outdegrees.withColumn(\"pagerank\", lit(initial_pagerank))\n",
        "\n",
        "pagerank.show(5,truncate=100)\n"
      ],
      "metadata": {
        "colab": {
          "base_uri": "https://localhost:8080/"
        },
        "id": "l7XgCADodTfE",
        "outputId": "99bd68ed-0746-4e9e-f673-b5587c2e645c"
      },
      "execution_count": 31,
      "outputs": [
        {
          "output_type": "stream",
          "name": "stdout",
          "text": [
            "+-----------------------------------------------------+---------+--------+\n",
            "|                                                 page|outDegree|pagerank|\n",
            "+-----------------------------------------------------+---------+--------+\n",
            "|         <http://dbpedia.org/resource/Actinopterygii>|      197|     1.0|\n",
            "|<http://dbpedia.org/resource/AtlasShruggedCharacters>|        1|     1.0|\n",
            "|             <http://dbpedia.org/resource/Allegiance>|       35|     1.0|\n",
            "|                  <http://dbpedia.org/resource/AbboT>|        1|     1.0|\n",
            "|        <http://dbpedia.org/resource/AcademicElitism>|        1|     1.0|\n",
            "+-----------------------------------------------------+---------+--------+\n",
            "only showing top 5 rows\n",
            "\n"
          ]
        }
      ]
    },
    {
      "cell_type": "code",
      "source": [
        "# Rejoignez le DataFrame pagerank avec le DataFrame data pour calculer la contribution à partir des liens entrants\n",
        "contrib = data.join(pagerank, data.target == pagerank.page, \"left\").select(\"source\", \"pagerank\")\n",
        "contrib = contrib.withColumn(\"pagerank\", when(col(\"pagerank\").isNull(), 0.0).otherwise(col(\"pagerank\")))\n",
        "\n",
        "new_pagerank = contrib.groupBy(\"source\").sum(\"pagerank\").withColumnRenamed(\"source\", \"page\").withColumnRenamed(\"sum(pagerank)\", \"pagerank\")\n",
        "\n",
        "# Joignez le DataFrame \"new_pagerank\" avec le DataFrame \"outdegrees\" pour obtenir les \"outDegree\" appropriés\n",
        "pagerank = new_pagerank.join(outdegrees, new_pagerank.page == outdegrees.page, \"left\").select(new_pagerank.page, new_pagerank.pagerank, outdegrees.outDegree)\n",
        "\n",
        "# Appliquez la formule du PageRank\n",
        "pagerank = pagerank.withColumn(\"pagerank\", (1 - damping_factor) + damping_factor * col(\"pagerank\") / when(col(\"outDegree\") > 0, col(\"outDegree\")).otherwise(1))\n",
        "pagerank.show(5)"
      ],
      "metadata": {
        "id": "-2KZfyUqkuM5",
        "colab": {
          "base_uri": "https://localhost:8080/"
        },
        "outputId": "9744b4f3-0611-467e-dca9-bf8cc38f5a6d"
      },
      "execution_count": 35,
      "outputs": [
        {
          "output_type": "stream",
          "name": "stdout",
          "text": [
            "+--------------------+-------------------+---------+\n",
            "|                page|           pagerank|outDegree|\n",
            "+--------------------+-------------------+---------+\n",
            "|<http://dbpedia.o...|0.15000000000000002|      197|\n",
            "|<http://dbpedia.o...|0.28111708845019734|        1|\n",
            "|<http://dbpedia.o...|0.15000000000000002|       35|\n",
            "|<http://dbpedia.o...|0.27989073867732917|        1|\n",
            "|<http://dbpedia.o...|0.15000000000000002|        1|\n",
            "+--------------------+-------------------+---------+\n",
            "only showing top 5 rows\n",
            "\n"
          ]
        }
      ]
    },
    {
      "cell_type": "code",
      "source": [],
      "metadata": {
        "id": "iWjdrlups0ei"
      },
      "execution_count": 35,
      "outputs": []
    },
    {
      "cell_type": "code",
      "execution_count": 36,
      "metadata": {
        "id": "u39aYX1jzi8H",
        "colab": {
          "base_uri": "https://localhost:8080/"
        },
        "outputId": "b71243a1-1dea-4a9a-e53d-9c69b295b2ac"
      },
      "outputs": [
        {
          "output_type": "stream",
          "name": "stdout",
          "text": [
            "+--------------------+-------------------+\n",
            "|                page|           pagerank|\n",
            "+--------------------+-------------------+\n",
            "|<http://dbpedia.o...|0.15000000000000002|\n",
            "|<http://dbpedia.o...| 0.2811221393932113|\n",
            "|<http://dbpedia.o...|0.15000000000000002|\n",
            "|<http://dbpedia.o...| 0.2798907386773296|\n",
            "|<http://dbpedia.o...|0.15000000000000002|\n",
            "|<http://dbpedia.o...|0.15000000000000002|\n",
            "|<http://dbpedia.o...|0.15000000000000002|\n",
            "|<http://dbpedia.o...| 0.1557801986733062|\n",
            "|<http://dbpedia.o...|0.15000000000000002|\n",
            "|<http://dbpedia.o...|0.15589785108855592|\n",
            "|<http://dbpedia.o...|0.15595563047687902|\n",
            "|<http://dbpedia.o...|0.15521243414110686|\n",
            "|<http://dbpedia.o...| 0.1512481644640235|\n",
            "|<http://dbpedia.o...| 0.1528830682341113|\n",
            "|<http://dbpedia.o...|0.15363241990176196|\n",
            "|<http://dbpedia.o...|0.15000000000000002|\n",
            "|<http://dbpedia.o...| 0.1507107618114224|\n",
            "|<http://dbpedia.o...|0.15159133486957974|\n",
            "|<http://dbpedia.o...|0.15000000000000002|\n",
            "|<http://dbpedia.o...|0.15000000000000002|\n",
            "+--------------------+-------------------+\n",
            "only showing top 20 rows\n",
            "\n",
            "Temps d'exécution : 34.310492753982544 secondes\n",
            "+-------------------------------------------+-------------------+---------+\n",
            "|                                       page|           pagerank|outDegree|\n",
            "+-------------------------------------------+-------------------+---------+\n",
            "|<http://dbpedia.org/resource/Abbreviations>|0.28589417148155094|        1|\n",
            "+-------------------------------------------+-------------------+---------+\n",
            "\n"
          ]
        }
      ],
      "source": [
        "import time\n",
        "max_iterations = 10\n",
        "debut = time.time()\n",
        "\n",
        "# Effectuez des itérations pour calculer le PageRank\n",
        "\n",
        "for iteration in range(max_iterations):\n",
        "  contrib = data.join(pagerank, data.target == pagerank.page, \"left\").select(\"source\", \"pagerank\")\n",
        "  contrib = contrib.withColumn(\"pagerank\", when(col(\"pagerank\").isNull(), 0.0).otherwise(col(\"pagerank\")))\n",
        "\n",
        "  new_pagerank = contrib.groupBy(\"source\").sum(\"pagerank\").withColumnRenamed(\"source\", \"page\").withColumnRenamed(\"sum(pagerank)\", \"pagerank\")\n",
        "\n",
        "  # Joignez le DataFrame \"new_pagerank\" avec le DataFrame \"outdegrees\" pour obtenir les \"outDegree\" appropriés\n",
        "  pagerank = new_pagerank.join(outdegrees, new_pagerank.page == outdegrees.page, \"left\").select(new_pagerank.page, new_pagerank.pagerank, outdegrees.outDegree)\n",
        "\n",
        "  # Appliquez la formule du PageRank\n",
        "  pagerank = pagerank.withColumn(\"pagerank\", (1 - damping_factor) + damping_factor * col(\"pagerank\") / when(col(\"outDegree\") > 0, col(\"outDegree\")).otherwise(1))\n",
        "\n",
        "\n",
        "# Affichez les résultats\n",
        "pagerank.select(\"page\", \"pagerank\").show()\n",
        "fin = time.time()\n",
        "print(f\"Temps d'exécution : {fin-debut} secondes\")\n",
        "max_pagerank_page = pagerank.orderBy(col(\"pagerank\"), ascending=False).limit(1)\n",
        "# Show the result\n",
        "max_pagerank_page.show(truncate=200)\n",
        "# Arrêtez la session Spark\n",
        "# spark.stop()"
      ]
    }
  ]
}