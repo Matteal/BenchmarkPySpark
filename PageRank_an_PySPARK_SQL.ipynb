{
  "nbformat": 4,
  "nbformat_minor": 0,
  "metadata": {
    "colab": {
      "provenance": []
    },
    "kernelspec": {
      "name": "python3",
      "display_name": "Python 3"
    },
    "language_info": {
      "name": "python"
    }
  },
  "cells": [
    {
      "cell_type": "code",
      "source": [
        "!pip install pyspark"
      ],
      "metadata": {
        "colab": {
          "base_uri": "https://localhost:8080/"
        },
        "id": "iJTFdC0vVqiY",
        "outputId": "bcf46d1a-0b75-4ff3-d67d-68757c64109e"
      },
      "execution_count": 30,
      "outputs": [
        {
          "output_type": "stream",
          "name": "stdout",
          "text": [
            "Requirement already satisfied: pyspark in /usr/local/lib/python3.10/dist-packages (3.5.3)\n",
            "Requirement already satisfied: py4j==0.10.9.7 in /usr/local/lib/python3.10/dist-packages (from pyspark) (0.10.9.7)\n"
          ]
        }
      ]
    },
    {
      "cell_type": "code",
      "source": [
        "!pip install -q findspark\n",
        "import findspark\n",
        "findspark.init()"
      ],
      "metadata": {
        "id": "1KCvbWLtVtM0"
      },
      "execution_count": 31,
      "outputs": []
    },
    {
      "cell_type": "code",
      "source": [
        "!wget -q https://storage.googleapis.com/public_lddm_data/small_page_links.nt\n",
        "!ls"
      ],
      "metadata": {
        "colab": {
          "base_uri": "https://localhost:8080/"
        },
        "id": "c170pcXpWHw4",
        "outputId": "92685c96-eadb-4848-fc61-b32b3bd1f107"
      },
      "execution_count": 32,
      "outputs": [
        {
          "output_type": "stream",
          "name": "stdout",
          "text": [
            "sample_data\t     small_page_links.nt.1  small_page_links.nt.3\n",
            "small_page_links.nt  small_page_links.nt.2\n"
          ]
        }
      ]
    },
    {
      "cell_type": "code",
      "source": [
        "from pyspark.sql import SparkSession\n",
        "from pyspark.sql.functions import col\n",
        "\n",
        "# Créez une session Spark\n",
        "spark = SparkSession.builder.appName(\"PageRankExample\").getOrCreate()\n"
      ],
      "metadata": {
        "id": "TtAMxYKoZDzr"
      },
      "execution_count": 33,
      "outputs": []
    },
    {
      "cell_type": "code",
      "source": [
        "from pyspark.sql.types import StructType, StructField, StringType, IntegerType, DoubleType\n",
        "schema = StructType([\n",
        "    StructField(\"source\", StringType(), nullable=True),\n",
        "    StructField(\"predicate\", StringType(), nullable=True),\n",
        "    StructField(\"target\", StringType(), nullable=True)\n",
        "])"
      ],
      "metadata": {
        "id": "bwJ5e6iFbPRC"
      },
      "execution_count": 34,
      "outputs": []
    },
    {
      "cell_type": "code",
      "source": [
        "# Chargez vos données web en tant que DataFrame\n",
        "# Supposons que vous ayez un DataFrame avec deux colonnes : 'source' et 'target' représentant les liens entre les pages web\n",
        "# Par exemple, vous pouvez le charger à partir d'un fichier CSV\n",
        "data = spark.read.option(\"delimiter\",\" \").csv(\"small_page_links.nt\", header=False, schema=schema)\n",
        "data.show(5,truncate=200)"
      ],
      "metadata": {
        "colab": {
          "base_uri": "https://localhost:8080/"
        },
        "id": "WDSxqtIxbkRd",
        "outputId": "cb40dcce-e442-4a44-b132-b4adc106a071"
      },
      "execution_count": 35,
      "outputs": [
        {
          "output_type": "stream",
          "name": "stdout",
          "text": [
            "+-------------------------------------------------------+--------------------------------------+-----------------------------------------------------------+\n",
            "|                                                 source|                             predicate|                                                     target|\n",
            "+-------------------------------------------------------+--------------------------------------+-----------------------------------------------------------+\n",
            "|       <http://dbpedia.org/resource/AfghanistanHistory>|<http://dbpedia.org/property/wikilink>|       <http://dbpedia.org/resource/History_of_Afghanistan>|\n",
            "|     <http://dbpedia.org/resource/AfghanistanGeography>|<http://dbpedia.org/property/wikilink>|     <http://dbpedia.org/resource/Geography_of_Afghanistan>|\n",
            "|      <http://dbpedia.org/resource/AccessibleComputing>|<http://dbpedia.org/property/wikilink>|       <http://dbpedia.org/resource/Computer_accessibility>|\n",
            "|        <http://dbpedia.org/resource/AfghanistanPeople>|<http://dbpedia.org/property/wikilink>|    <http://dbpedia.org/resource/Demography_of_Afghanistan>|\n",
            "|<http://dbpedia.org/resource/AfghanistanCommunications>|<http://dbpedia.org/property/wikilink>|<http://dbpedia.org/resource/Communications_in_Afghanistan>|\n",
            "+-------------------------------------------------------+--------------------------------------+-----------------------------------------------------------+\n",
            "only showing top 5 rows\n",
            "\n"
          ]
        }
      ]
    },
    {
      "cell_type": "code",
      "source": [
        "# Créez un DataFrame contenant le nombre de liens sortants pour chaque page\n",
        "outdegrees = data.groupBy(\"source\").count().withColumnRenamed(\"source\", \"page\").withColumnRenamed(\"count\", \"outDegree\")\n",
        "\n",
        "damping_factor = 0.85\n",
        "initial_pagerank = 1.0\n",
        "\n",
        "# Créez un DataFrame contenant les valeurs de PageRank initiales\n",
        "pagerank = outdegrees.withColumn(\"pagerank\", col(\"outDegree\") / initial_pagerank)\n",
        "\n",
        "pagerank.show(5,truncate=100)\n"
      ],
      "metadata": {
        "colab": {
          "base_uri": "https://localhost:8080/"
        },
        "id": "l7XgCADodTfE",
        "outputId": "85146b6a-37cd-40f2-f47c-0b3d2d799628"
      },
      "execution_count": 36,
      "outputs": [
        {
          "output_type": "stream",
          "name": "stdout",
          "text": [
            "+-----------------------------------------------------+---------+--------+\n",
            "|                                                 page|outDegree|pagerank|\n",
            "+-----------------------------------------------------+---------+--------+\n",
            "|         <http://dbpedia.org/resource/Actinopterygii>|      197|   197.0|\n",
            "|<http://dbpedia.org/resource/AtlasShruggedCharacters>|        1|     1.0|\n",
            "|             <http://dbpedia.org/resource/Allegiance>|       35|    35.0|\n",
            "|                  <http://dbpedia.org/resource/AbboT>|        1|     1.0|\n",
            "|        <http://dbpedia.org/resource/AcademicElitism>|        1|     1.0|\n",
            "+-----------------------------------------------------+---------+--------+\n",
            "only showing top 5 rows\n",
            "\n"
          ]
        }
      ]
    },
    {
      "cell_type": "code",
      "execution_count": 37,
      "metadata": {
        "id": "u39aYX1jzi8H",
        "colab": {
          "base_uri": "https://localhost:8080/"
        },
        "outputId": "ceddaa76-edc3-40f6-e094-2c76db8283e2"
      },
      "outputs": [
        {
          "output_type": "stream",
          "name": "stdout",
          "text": [
            "+--------------------+-------------------+\n",
            "|                page|           pagerank|\n",
            "+--------------------+-------------------+\n",
            "|<http://dbpedia.o...|               NULL|\n",
            "|<http://dbpedia.o...|  0.281117088459783|\n",
            "|<http://dbpedia.o...|               NULL|\n",
            "|<http://dbpedia.o...| 0.2798907386775123|\n",
            "|<http://dbpedia.o...|               NULL|\n",
            "|<http://dbpedia.o...|               NULL|\n",
            "|<http://dbpedia.o...|               NULL|\n",
            "|<http://dbpedia.o...|0.15577653242948128|\n",
            "|<http://dbpedia.o...|               NULL|\n",
            "|<http://dbpedia.o...|0.15589785108855858|\n",
            "|<http://dbpedia.o...|0.15595562103330207|\n",
            "|<http://dbpedia.o...|0.15521238381859923|\n",
            "|<http://dbpedia.o...| 0.1512481644640235|\n",
            "|<http://dbpedia.o...|0.15288306779854716|\n",
            "|<http://dbpedia.o...|0.15363072921406706|\n",
            "|<http://dbpedia.o...|               NULL|\n",
            "|<http://dbpedia.o...|0.15071076181142568|\n",
            "|<http://dbpedia.o...|0.15159132688616334|\n",
            "|<http://dbpedia.o...|               NULL|\n",
            "|<http://dbpedia.o...|               NULL|\n",
            "+--------------------+-------------------+\n",
            "only showing top 20 rows\n",
            "\n",
            "Temps d'exécution : 11.649065732955933 secondes / Row(page='<http://dbpedia.org/resource/AbbesS>', pagerank=0.285561718058239, outDegree=1)\n"
          ]
        }
      ],
      "source": [
        "import time\n",
        "max_iterations = 10\n",
        "debut = time.time()\n",
        "\n",
        "# Effectuez des itérations pour calculer le PageRank\n",
        "\n",
        "for iteration in range(max_iterations):\n",
        "  # Rejoignez le DataFrame pagerank avec le DataFrame data pour calculer la contribution à partir des liens entrants\n",
        "  contrib = data.join(pagerank, data.target == pagerank.page, \"left\").select(\"source\", \"pagerank\")\n",
        "\n",
        "  new_pagerank = contrib.groupBy(\"source\").sum(\"pagerank\").withColumnRenamed(\"source\", \"page\").withColumnRenamed(\"sum(pagerank)\", \"pagerank\")\n",
        "\n",
        "  # Joignez le DataFrame \"new_pagerank\" avec le DataFrame \"outdegrees\" pour obtenir les \"outDegree\" appropriés\n",
        "  pagerank = new_pagerank.join(outdegrees, new_pagerank.page == outdegrees.page, \"left\").select(new_pagerank.page, new_pagerank.pagerank, outdegrees.outDegree)\n",
        "\n",
        "  # Appliquez la formule du PageRank\n",
        "  pagerank = pagerank.withColumn(\"pagerank\", (1 - damping_factor) + damping_factor * col(\"pagerank\") / col(\"outDegree\"))\n",
        "\n",
        "\n",
        "# Affichez les résultats\n",
        "pagerank.select(\"page\", \"pagerank\").show()\n",
        "fin = time.time()\n",
        "\n",
        "#Affiche le lien avec le plus haut page rank\n",
        "page_max_pagerank = pagerank.orderBy(\"pagerank\", ascending=False).first()\n",
        "print(f\"Temps d'exécution : {fin-debut} secondes / {page_max_pagerank}\")\n",
        "# Arrêtez la session Spark\n",
        "# spark.stop()"
      ]
    }
  ]
}